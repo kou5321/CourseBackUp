{
 "cells": [
  {
   "cell_type": "code",
   "execution_count": 1,
   "metadata": {},
   "outputs": [
    {
     "name": "stdout",
     "output_type": "stream",
     "text": [
      "['亚瑟' '后裔' '小乔' '哪吒' '虞姬' '王昭君']\n",
      "['001', '002', '003', '004', '005', '006']\n",
      "[('001', '亚瑟'), ('002', '后裔'), ('003', '小乔'), ('004', '哪吒'), ('005', '虞姬'), ('006', '王昭君')]\n"
     ]
    }
   ],
   "source": [
    "from pandas import Series\n",
    "emp=['001','002','003','004','005','006']\n",
    "name=['亚瑟', '后裔','小乔','哪吒' ,'虞姬','王昭君']\n",
    "series = Series(data=name,index=emp)\n",
    "\n",
    "# 获取数据的值\n",
    "print(series.values)\n",
    "# 获取索引的值\n",
    "print(series.index.tolist())\n",
    "# 获取每对索引和值\n",
    "print(list(series.items()))"
   ]
  },
  {
   "cell_type": "markdown",
   "metadata": {},
   "source": [
    "# 【神仙的自我修养】\n",
    "\n",
    "# 获取数据格式—对象名[]\n",
    "# 获取多个不连续数据时是双层括号— 对象名[[]]\n",
    "# 使用切片时使用的是:"
   ]
  },
  {
   "cell_type": "code",
   "execution_count": null,
   "metadata": {},
   "outputs": [],
   "source": [
    "from pandas import Series\n",
    "emp=['001','002','003','004','005','006']\n",
    "name=['亚瑟', '后裔','小乔','哪吒' ,'虞姬','王昭君']\n",
    "series = Series(data=name,index=emp)\n",
    "\n",
    "# 使用索引值获取单个数据\n",
    "print(series['001'])\n",
    "\n",
    "# 使用索引值获取多个不连续的数据\n",
    "print('索引下标',series[['002','004']])\n",
    "\n",
    "# 使用切片获取连续的数据\n",
    "print('索引切片',series['001':'004'])"
   ]
  },
  {
   "cell_type": "markdown",
   "metadata": {},
   "source": [
    "# 我们自定的index值被叫做索引下标，没有设置index值时会有一个默认的值叫做位置下标。"
   ]
  },
  {
   "cell_type": "code",
   "execution_count": null,
   "metadata": {},
   "outputs": [],
   "source": [
    "from pandas import Series\n",
    "emp=['001','002','003','004','005','006']\n",
    "name=['亚瑟', '后裔','小乔','哪吒' ,'虞姬','王昭君']\n",
    "series = Series(data=name,index=emp)\n",
    "# 获取单个数据\n",
    "print(series[0])\n",
    "# 获取多个不连续的数据\n",
    "print('位置下标',series[[1,3]])\n",
    "# 使用切片获取连续的数据\n",
    "print('位置切片',series[0:3])"
   ]
  },
  {
   "cell_type": "code",
   "execution_count": 7,
   "metadata": {},
   "outputs": [
    {
     "name": "stdout",
     "output_type": "stream",
     "text": [
      "         name age weight\n",
      "001  ZhangSan  18     50\n",
      "002      LiSi  20     55\n",
      "003    WangWu  19     60\n",
      "004   ZhaoLiu  22     80\n",
      "(4, 3)\n",
      "['001', '002', '003', '004']\n",
      "['name', 'age', 'weight']\n",
      "2\n"
     ]
    }
   ],
   "source": [
    "import pandas as pd\n",
    "\n",
    "df_dict = {\n",
    "\t'name':['ZhangSan','LiSi','WangWu','ZhaoLiu'],\n",
    "\t'age':['18','20','19','22'],\n",
    "\t'weight':['50','55','60','80']\n",
    "}\n",
    "df = pd.DataFrame(data=df_dict,index=['001','002','003','004'])\n",
    "print(df)\n",
    "# 获取行数和列数\n",
    "print(df.shape)\n",
    "\n",
    "# 获取行索引\n",
    "print(df.index.tolist())\n",
    "\n",
    "# 获取列索引\n",
    "print(df.columns.tolist())\n",
    "\n",
    "# 获取数据的维度\n",
    "print(df.ndim)"
   ]
  },
  {
   "cell_type": "code",
   "execution_count": 8,
   "metadata": {},
   "outputs": [
    {
     "data": {
      "text/html": [
       "<div>\n",
       "<style scoped>\n",
       "    .dataframe tbody tr th:only-of-type {\n",
       "        vertical-align: middle;\n",
       "    }\n",
       "\n",
       "    .dataframe tbody tr th {\n",
       "        vertical-align: top;\n",
       "    }\n",
       "\n",
       "    .dataframe thead th {\n",
       "        text-align: right;\n",
       "    }\n",
       "</style>\n",
       "<table border=\"1\" class=\"dataframe\">\n",
       "  <thead>\n",
       "    <tr style=\"text-align: right;\">\n",
       "      <th></th>\n",
       "      <th>name</th>\n",
       "      <th>age</th>\n",
       "      <th>weight</th>\n",
       "    </tr>\n",
       "  </thead>\n",
       "  <tbody>\n",
       "    <tr>\n",
       "      <th>003</th>\n",
       "      <td>WangWu</td>\n",
       "      <td>19</td>\n",
       "      <td>60</td>\n",
       "    </tr>\n",
       "    <tr>\n",
       "      <th>004</th>\n",
       "      <td>ZhaoLiu</td>\n",
       "      <td>22</td>\n",
       "      <td>80</td>\n",
       "    </tr>\n",
       "  </tbody>\n",
       "</table>\n",
       "</div>"
      ],
      "text/plain": [
       "        name age weight\n",
       "003   WangWu  19     60\n",
       "004  ZhaoLiu  22     80"
      ]
     },
     "execution_count": 8,
     "metadata": {},
     "output_type": "execute_result"
    }
   ],
   "source": [
    "# 获取前两条\n",
    "df.head(2)\n",
    "# 获取后两条\n",
    "df.tail(2)"
   ]
  },
  {
   "cell_type": "code",
   "execution_count": 9,
   "metadata": {},
   "outputs": [
    {
     "name": "stdout",
     "output_type": "stream",
     "text": [
      "         name age weight\n",
      "001  ZhangSan  18     50\n",
      "       name age weight\n",
      "002    LiSi  20     55\n",
      "003  WangWu  19     60\n",
      "       name age\n",
      "002    LiSi  20\n",
      "003  WangWu  19\n",
      "001    ZhangSan\n",
      "002        LiSi\n",
      "003      WangWu\n",
      "004     ZhaoLiu\n",
      "Name: name, dtype: object\n",
      "         name age\n",
      "001  ZhangSan  18\n",
      "002      LiSi  20\n",
      "003    WangWu  19\n",
      "004   ZhaoLiu  22\n"
     ]
    }
   ],
   "source": [
    "# 通过位置索引切片获取一行\n",
    "print(df[0:1])\n",
    "# 通过位置索引切片获取多行\n",
    "print(df[1:3])\n",
    "# 获取多行里面的某几列\n",
    "print(df[1:3][['name','age']])\n",
    "# 获取DataFrame的列\n",
    "print(df['name'])\n",
    "# 如果获取多个列\n",
    "print(df[['name','age']])"
   ]
  },
  {
   "cell_type": "markdown",
   "metadata": {},
   "source": [
    "# 【神仙的自我修养】\n",
    "\n",
    "df[]不支持直接输入标签索引获取行数据，例如：df['001']<br/>\n",
    "这种方式可以获取一列数据，列如：df['name']<br/>\n",
    "如果想获取多行里面的某几列可写成：df[行][列]，例如：df[1:3][['name','age']],将列索引值放到同一个列表中，再将列表放到第二个方括号中"
   ]
  },
  {
   "cell_type": "code",
   "execution_count": 10,
   "metadata": {},
   "outputs": [
    {
     "name": "stdout",
     "output_type": "stream",
     "text": [
      "         name age weight\n",
      "001  ZhangSan  18     50\n",
      "002      LiSi  20     55\n",
      "003    WangWu  19     60\n",
      "004   ZhaoLiu  22     80\n",
      "ZhangSan\n",
      "name      ZhangSan\n",
      "weight          50\n",
      "Name: 001, dtype: object\n",
      "name      ZhangSan\n",
      "age             18\n",
      "weight          50\n",
      "Name: 001, dtype: object\n",
      "         name weight\n",
      "001  ZhangSan     50\n",
      "003    WangWu     60\n",
      "         name age weight\n",
      "001  ZhangSan  18     50\n",
      "002      LiSi  20     55\n",
      "003    WangWu  19     60\n"
     ]
    }
   ],
   "source": [
    "import pandas as pd\n",
    "\n",
    "df_dict = {\n",
    "\t'name':['ZhangSan','LiSi','WangWu','ZhaoLiu'],\n",
    "\t'age':['18','20','19','22'],\n",
    "\t'weight':['50','55','60','80']\n",
    "}\n",
    "df = pd.DataFrame(data=df_dict,index=['001','002','003','004'])\n",
    "print(df)\n",
    "\n",
    "# 获取某一行某一列的数据\n",
    "print(df.loc['001','name'])\n",
    "# 某一行多列的数据\n",
    "print(df.loc['001',['name','weight']])\n",
    "# 一行所有列\n",
    "print(df.loc['001',:])\n",
    "# 选择间隔的多行多列\n",
    "print(df.loc[['001','003'],['name','weight']])\n",
    "# 选择连续的多行和间隔的多列\n",
    "print(df.loc['001':'003','name':'weight'])"
   ]
  },
  {
   "cell_type": "markdown",
   "metadata": {},
   "source": [
    "# 【神仙的自我修养】\n",
    "df.loc[] 通过标签索引获取行数据，它的语法结构是这样的：<br/>\n",
    "df.loc[[行],[列]]，方括号中用逗号分隔，左侧是行、右侧是列。<br/>\n",
    "千万注意：如果行或者列使用切片的时候，要把方括号去掉，列df.loc['001':'003','name':'weight']。"
   ]
  },
  {
   "cell_type": "code",
   "execution_count": 11,
   "metadata": {},
   "outputs": [
    {
     "name": "stdout",
     "output_type": "stream",
     "text": [
      "name      LiSi\n",
      "age         20\n",
      "weight      55\n",
      "Name: 002, dtype: object\n",
      "         name age weight\n",
      "001  ZhangSan  18     50\n",
      "002      LiSi  20     55\n",
      "         name age weight\n",
      "001  ZhangSan  18     50\n",
      "003    WangWu  19     60\n",
      "001    18\n",
      "002    20\n",
      "003    19\n",
      "004    22\n",
      "Name: age, dtype: object\n",
      "LiSi\n"
     ]
    }
   ],
   "source": [
    "# 取一行\n",
    "print(df.iloc[1])\n",
    "# 取连续多行\n",
    "print(df.iloc[0:2])\n",
    "# 取间断的多行\n",
    "print(df.iloc[[0,2],:])\n",
    "# 取某一列\n",
    "print(df.iloc[:,1])\n",
    "# 某一个值\n",
    "print(df.iloc[1,0])"
   ]
  },
  {
   "cell_type": "markdown",
   "metadata": {},
   "source": [
    "需要注意的是，loc和iloc的切片操作在是否包含切片终点的数据有差异。loc['001':'003']的结果中包含行索引003对应的行。iloc[0:2] 结果中不包含序号为2的数据，切片终点对应的数据不在筛选结果中。"
   ]
  },
  {
   "cell_type": "markdown",
   "metadata": {},
   "source": [
    " iterrows(): 按行遍历，将DataFrame的每一行转化为(index, Series)对。index为行索引值，Series为该行对应的数据。"
   ]
  },
  {
   "cell_type": "code",
   "execution_count": 13,
   "metadata": {},
   "outputs": [
    {
     "name": "stdout",
     "output_type": "stream",
     "text": [
      "001 name      ZhangSan\n",
      "age             18\n",
      "weight          50\n",
      "Name: 001, dtype: object\n",
      "002 name      LiSi\n",
      "age         20\n",
      "weight      55\n",
      "Name: 002, dtype: object\n",
      "003 name      WangWu\n",
      "age           19\n",
      "weight        60\n",
      "Name: 003, dtype: object\n",
      "004 name      ZhaoLiu\n",
      "age            22\n",
      "weight         80\n",
      "Name: 004, dtype: object\n"
     ]
    }
   ],
   "source": [
    "for index,row_data in df.iterrows():\n",
    "    print(index,row_data)"
   ]
  },
  {
   "cell_type": "markdown",
   "metadata": {},
   "source": [
    "iteritems():按列遍历，将DataFrame的每一列转化为(column, Series)对。column为列索引的值，Series为该列对应的数据。"
   ]
  },
  {
   "cell_type": "code",
   "execution_count": 14,
   "metadata": {},
   "outputs": [
    {
     "name": "stdout",
     "output_type": "stream",
     "text": [
      "name\n",
      "age\n",
      "weight\n"
     ]
    }
   ],
   "source": [
    "for col,col_data in df.iteritems():\n",
    "    print(col)"
   ]
  },
  {
   "cell_type": "code",
   "execution_count": 15,
   "metadata": {},
   "outputs": [
    {
     "name": "stdout",
     "output_type": "stream",
     "text": [
      "10k\n",
      "12.5\n",
      "20k\n",
      "14k\n",
      "12k\n",
      "17k\n",
      "18k\n",
      "21k\n",
      "22k\n",
      "21.5k\n",
      "10k\n",
      "12.5\n",
      "20k\n",
      "14k\n",
      "12k\n",
      "17k\n",
      "18k\n",
      "21k\n",
      "22k\n",
      "21.5k\n",
      "001      10k\n",
      "002     12.5\n",
      "003      20k\n",
      "004      14k\n",
      "005      12k\n",
      "006      17k\n",
      "007      18k\n",
      "008      21k\n",
      "009      22k\n",
      "010    21.5k\n",
      "Name: 薪资, dtype: object\n"
     ]
    }
   ],
   "source": [
    "from pandas import Series,DataFrame\n",
    "index_list = ['001','002','003','004','005','006','007','008','009','010']\n",
    "name_list = ['李白','王昭君','诸葛亮','狄仁杰','孙尚香','妲己','周瑜','张飞','王昭君','大乔']\n",
    "age_list = [25,28,27,25,30,29,25,32,28,26]\n",
    "salary_list = ['10k','12.5','20k','14k','12k','17k','18k','21k','22k','21.5k']\n",
    "marital_list = ['NO','NO','YES','YES','NO','NO','NO','YES','NO','YES']\n",
    "dic={\n",
    "    '姓名': Series(data=name_list,index=index_list),\n",
    "    '年龄': Series(data=age_list,index=index_list),\n",
    "    '薪资': Series(data=salary_list,index=index_list),\n",
    "    '婚姻状况': Series(data=marital_list,index=index_list)\n",
    "    }\n",
    "df=DataFrame(dic)\n",
    "\n",
    "for value in df['薪资']:\n",
    "    print(value)\n",
    "for index, row_data in df.iterrows():\n",
    "    print(row_data['薪资'])\n",
    "for col, col_data in df.iteritems():\n",
    "    if col == '薪资':\n",
    "        print(col_data)"
   ]
  },
  {
   "cell_type": "code",
   "execution_count": null,
   "metadata": {},
   "outputs": [],
   "source": []
  }
 ],
 "metadata": {
  "kernelspec": {
   "display_name": "Python 3",
   "language": "python",
   "name": "python3"
  },
  "language_info": {
   "codemirror_mode": {
    "name": "ipython",
    "version": 3
   },
   "file_extension": ".py",
   "mimetype": "text/x-python",
   "name": "python",
   "nbconvert_exporter": "python",
   "pygments_lexer": "ipython3",
   "version": "3.7.3"
  }
 },
 "nbformat": 4,
 "nbformat_minor": 2
}
