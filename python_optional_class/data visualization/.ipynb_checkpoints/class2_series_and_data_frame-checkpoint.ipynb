{
 "cells": [
  {
   "cell_type": "code",
   "execution_count": 1,
   "metadata": {},
   "outputs": [
    {
     "name": "stdout",
     "output_type": "stream",
     "text": [
      "['亚瑟' '后裔' '小乔' '哪吒' '虞姬' '王昭君']\n",
      "['001', '002', '003', '004', '005', '006']\n",
      "[('001', '亚瑟'), ('002', '后裔'), ('003', '小乔'), ('004', '哪吒'), ('005', '虞姬'), ('006', '王昭君')]\n"
     ]
    }
   ],
   "source": [
    "from pandas import Series\n",
    "emp=['001','002','003','004','005','006']\n",
    "name=['亚瑟', '后裔','小乔','哪吒' ,'虞姬','王昭君']\n",
    "series = Series(data=name,index=emp)\n",
    "\n",
    "# 获取数据的值\n",
    "print(series.values)\n",
    "# 获取索引的值\n",
    "print(series.index.tolist())\n",
    "# 获取每对索引和值\n",
    "print(list(series.items()))"
   ]
  },
  {
   "cell_type": "markdown",
   "metadata": {},
   "source": [
    "# 【神仙的自我修养】\n",
    "\n",
    "# 获取数据格式—对象名[]\n",
    "# 获取多个不连续数据时是双层括号— 对象名[[]]\n",
    "# 使用切片时使用的是:"
   ]
  },
  {
   "cell_type": "code",
   "execution_count": null,
   "metadata": {},
   "outputs": [],
   "source": [
    "from pandas import Series\n",
    "emp=['001','002','003','004','005','006']\n",
    "name=['亚瑟', '后裔','小乔','哪吒' ,'虞姬','王昭君']\n",
    "series = Series(data=name,index=emp)\n",
    "\n",
    "# 使用索引值获取单个数据\n",
    "print(series['001'])\n",
    "\n",
    "# 使用索引值获取多个不连续的数据\n",
    "print('索引下标',series[['002','004']])\n",
    "\n",
    "# 使用切片获取连续的数据\n",
    "print('索引切片',series['001':'004'])"
   ]
  },
  {
   "cell_type": "markdown",
   "metadata": {},
   "source": [
    "# 我们自定的index值被叫做索引下标，没有设置index值时会有一个默认的值叫做位置下标。"
   ]
  },
  {
   "cell_type": "code",
   "execution_count": null,
   "metadata": {},
   "outputs": [],
   "source": [
    "from pandas import Series\n",
    "emp=['001','002','003','004','005','006']\n",
    "name=['亚瑟', '后裔','小乔','哪吒' ,'虞姬','王昭君']\n",
    "series = Series(data=name,index=emp)\n",
    "# 获取单个数据\n",
    "print(series[0])\n",
    "# 获取多个不连续的数据\n",
    "print('位置下标',series[[1,3]])\n",
    "# 使用切片获取连续的数据\n",
    "print('位置切片',series[0:3])"
   ]
  },
  {
   "cell_type": "code",
   "execution_count": 2,
   "metadata": {},
   "outputs": [
    {
     "name": "stdout",
     "output_type": "stream",
     "text": [
      "         name age weight\n",
      "001  ZhangSan  18     50\n",
      "002      LiSi  20     55\n",
      "003    WangWu  19     60\n",
      "004   ZhaoLiu  22     80\n",
      "(4, 3)\n",
      "['001', '002', '003', '004']\n",
      "['name', 'age', 'weight']\n",
      "2\n"
     ]
    }
   ],
   "source": [
    "import pandas as pd\n",
    "\n",
    "df_dict = {\n",
    "\t'name':['ZhangSan','LiSi','WangWu','ZhaoLiu'],\n",
    "\t'age':['18','20','19','22'],\n",
    "\t'weight':['50','55','60','80']\n",
    "}\n",
    "df = pd.DataFrame(data=df_dict,index=['001','002','003','004'])\n",
    "print(df)\n",
    "# 获取行数和列数\n",
    "print(df.shape)\n",
    "\n",
    "# 获取行索引\n",
    "print(df.index.tolist())\n",
    "\n",
    "# 获取列索引\n",
    "print(df.columns.tolist())\n",
    "\n",
    "# 获取数据的维度\n",
    "print(df.ndim)"
   ]
  },
  {
   "cell_type": "code",
   "execution_count": null,
   "metadata": {},
   "outputs": [],
   "source": []
  }
 ],
 "metadata": {
  "kernelspec": {
   "display_name": "Python 3",
   "language": "python",
   "name": "python3"
  },
  "language_info": {
   "codemirror_mode": {
    "name": "ipython",
    "version": 3
   },
   "file_extension": ".py",
   "mimetype": "text/x-python",
   "name": "python",
   "nbconvert_exporter": "python",
   "pygments_lexer": "ipython3",
   "version": "3.7.3"
  }
 },
 "nbformat": 4,
 "nbformat_minor": 2
}
