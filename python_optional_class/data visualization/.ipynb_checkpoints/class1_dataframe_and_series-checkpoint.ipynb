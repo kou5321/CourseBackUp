{
 "cells": [
  {
   "cell_type": "code",
   "execution_count": 1,
   "metadata": {},
   "outputs": [
    {
     "name": "stdout",
     "output_type": "stream",
     "text": [
      "      0    1   2       3  4\n",
      "0  1001   鲁班  18  150.00  男\n",
      "1  1002   小乔  19  167.00  女\n",
      "2  1003   关羽  30  180.00  男\n",
      "3  1004  蔡文姬  20  160.00  女\n",
      "4  1005  兰陵王  22  165.00  男\n"
     ]
    }
   ],
   "source": [
    "import pandas as pd\n",
    "\n",
    "#通过Series存储每个英雄的基本信息\n",
    "#创建Series\n",
    "s1 = pd.Series([1001,'鲁班','18','150.00','男'])\n",
    "s2 = pd.Series([1002,'小乔','19','167.00','女'])\n",
    "s3 = pd.Series([1003,'关羽','30','180.00','男'])\n",
    "s4 = pd.Series([1004,'蔡文姬','20','160.00','女'])\n",
    "s5 = pd.Series([1005,'兰陵王','22','165.00','男'])\n",
    "\n",
    "series_list=[s1,s2,s3,s4,s5]\n",
    "\n",
    "#创建一个DataFrame对象存储通讯录\n",
    "df=pd.DataFrame(series_list)\n",
    "\n",
    "# 打印刚刚构造的DataFrame\n",
    "print(df)"
   ]
  },
  {
   "cell_type": "code",
   "execution_count": 2,
   "metadata": {},
   "outputs": [
    {
     "name": "stdout",
     "output_type": "stream",
     "text": [
      "0                       1\n",
      "1                  TheShy\n",
      "2                      20\n",
      "3    天不生theshy，LPL上单万古如长夜\n",
      "dtype: object\n"
     ]
    }
   ],
   "source": [
    "# 导入Series\n",
    "from pandas import Series,DataFrame\n",
    "\n",
    "# 创建Series，使用默认索引\n",
    "sel =  Series(data=[1,'TheShy',20,'天不生theshy，LPL上单万古如长夜'])\n",
    "print(sel)"
   ]
  },
  {
   "cell_type": "code",
   "execution_count": 3,
   "metadata": {},
   "outputs": [
    {
     "name": "stdout",
     "output_type": "stream",
     "text": [
      "排名                        1\n",
      "ID号                  TheShy\n",
      "年龄                       20\n",
      "评语     天不生theshy，Lpl上单万古如长夜\n",
      "dtype: object\n"
     ]
    }
   ],
   "source": [
    "# 导入Series\n",
    "from pandas import Series,DataFrame\n",
    "\n",
    "# 创建Series，使用自定义索引\n",
    "sel =  Series(data=[1,'TheShy',20,'天不生theshy，Lpl上单万古如长夜'],\n",
    "              index = ['排名','ID号','年龄','评语'])\n",
    "print(sel)"
   ]
  },
  {
   "cell_type": "code",
   "execution_count": 4,
   "metadata": {},
   "outputs": [
    {
     "name": "stdout",
     "output_type": "stream",
     "text": [
      "red      100\n",
      "black    400\n",
      "green    300\n",
      "pink     900\n",
      "dtype: int64\n"
     ]
    }
   ],
   "source": [
    "from pandas import Series,DataFrame\n",
    "\n",
    "# 将字典转换为Series\n",
    "dic={\"red\":100,\"black\":400,\"green\":300,\"pink\":900}\n",
    "se2=Series(data=dic)\n",
    "print(se2)"
   ]
  },
  {
   "cell_type": "code",
   "execution_count": 5,
   "metadata": {},
   "outputs": [
    {
     "name": "stdout",
     "output_type": "stream",
     "text": [
      "     0       1   2\n",
      "0   上单  TheShy  20\n",
      "1   打野      小天  19\n",
      "2   中单   Faker  23\n",
      "3  ADC     Uzi  22\n",
      "4   辅助    Ming  21\n"
     ]
    }
   ],
   "source": [
    "from pandas import Series,DataFrame\n",
    "\n",
    "# 创建二维列表存储选手信息\n",
    "lol_list = [['上单','TheShy',20],\n",
    "            ['打野','小天',19],\n",
    "            ['中单','Faker',23],\n",
    "            ['ADC','Uzi',22],\n",
    "            ['辅助','Ming',21]]\n",
    "# 创建dataframe\n",
    "df = DataFrame(data=lol_list)\n",
    "print(df)"
   ]
  },
  {
   "cell_type": "code",
   "execution_count": 6,
   "metadata": {},
   "outputs": [
    {
     "name": "stdout",
     "output_type": "stream",
     "text": [
      "    位置     ID号  年龄\n",
      "a   上单  TheShy  20\n",
      "b   打野      小天  19\n",
      "c   中单   Faker  23\n",
      "d  ADC     Uzi  22\n",
      "e   辅助    Ming  21\n"
     ]
    }
   ],
   "source": [
    "from pandas import Series,DataFrame\n",
    "\n",
    "# 创建二维列表存储选手信息\n",
    "lol_list = [['上单','TheShy',20],\n",
    "            ['打野','小天',19],\n",
    "            ['中单','Faker',23],\n",
    "            ['ADC','Uzi',22],\n",
    "            ['辅助','Ming',21]]\n",
    "# 创建dataframe\n",
    "df = DataFrame(data=lol_list,\n",
    "               index=['a','b','c','d','e'],\n",
    "               columns=['位置','ID号','年龄'])\n",
    "print(df)"
   ]
  },
  {
   "cell_type": "code",
   "execution_count": 7,
   "metadata": {},
   "outputs": [
    {
     "name": "stdout",
     "output_type": "stream",
     "text": [
      "    位置     ID号  year\n",
      "0   上单  TheShy    20\n",
      "1   打野      小天    19\n",
      "2   中单   Faker    23\n",
      "3  ADC     Uzi    22\n",
      "4   辅助    Ming    21\n"
     ]
    }
   ],
   "source": [
    "from pandas import Series,DataFrame\n",
    "import pandas as pd\n",
    "# 使用字典创建\n",
    "dic={\n",
    "    '位置': ['上单', '打野', '中单', 'ADC','辅助'],\n",
    "    'ID号': ['TheShy', '小天', 'Faker', 'Uzi', 'Ming'],\n",
    "    'year': [20, 19, 23, 22,21]}\n",
    "df=pd.DataFrame(dic)\n",
    "print(df)"
   ]
  },
  {
   "cell_type": "code",
   "execution_count": 8,
   "metadata": {},
   "outputs": [
    {
     "name": "stdout",
     "output_type": "stream",
     "text": [
      "     姓名    类型         爱好             时间\n",
      "No1  娜娜  可爱单纯  逛街、电影、爱吃甜  2019-2-14去看电影\n",
      "No2  淼淼  风骚火辣  喝酒、蹦迪、爱吃辣   2019-2-16去蹦迪\n",
      "No3  依依  性感高冷  看书、烘焙、爱吃酸   2019-2-18去烘焙\n"
     ]
    }
   ],
   "source": [
    "from pandas import Series, DataFrame\n",
    "# 使用字典创建\n",
    "index_list = ['No1','No2','No3']\n",
    "dic={\n",
    "    '姓名': Series(['娜娜','淼淼','依依'],index=index_list),\n",
    "    '类型': Series(['可爱单纯','风骚火辣','性感高冷'],index=index_list),\n",
    "    '爱好': Series(['逛街、电影、爱吃甜','喝酒、蹦迪、爱吃辣','看书、烘焙、爱吃酸'],index=index_list),\n",
    "    '时间': Series(['2019-2-14去看电影','2019-2-16去蹦迪','2019-2-18去烘焙'],index=index_list)\n",
    "    }\n",
    "df = DataFrame(dic)\n",
    "print(df)"
   ]
  },
  {
   "cell_type": "code",
   "execution_count": null,
   "metadata": {},
   "outputs": [],
   "source": []
  }
 ],
 "metadata": {
  "kernelspec": {
   "display_name": "Python 3",
   "language": "python",
   "name": "python3"
  },
  "language_info": {
   "codemirror_mode": {
    "name": "ipython",
    "version": 3
   },
   "file_extension": ".py",
   "mimetype": "text/x-python",
   "name": "python",
   "nbconvert_exporter": "python",
   "pygments_lexer": "ipython3",
   "version": "3.7.3"
  }
 },
 "nbformat": 4,
 "nbformat_minor": 2
}
