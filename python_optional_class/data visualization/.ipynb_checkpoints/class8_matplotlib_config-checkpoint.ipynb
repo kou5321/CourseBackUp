{
 "cells": [
  {
   "cell_type": "markdown",
   "metadata": {},
   "source": [
    "实际上，matplotlib是支持unicode编码的，中文乱码的主要问题是没有找到合适的中文字体。<br>\n",
    "如果想要Matplotlib显示中文我们可以使用三种方法：<br>\n",
    "第一种：直接修改Matplotlib配置文件matplotlibrc 第二种：动态修改配置 第三种：设置自定义字体<br>\n",
    "本节课我们将讲解第三种方法，因为自定义的字体自由度比较高，同时也方便我们在一个图中使用不同风格的字体。<br>\n",
    "首先，我们下载了一个字体文件，文件的存储路径为/data/course_data/data_analysis/STSONG.TTF"
   ]
  },
  {
   "cell_type": "code",
   "execution_count": null,
   "metadata": {},
   "outputs": [],
   "source": [
    "from matplotlib import font_manager\n",
    "my_font = font_manager.FontProperties(fname='/data/course_data/data_analysis/STSONG.TTF')"
   ]
  },
  {
   "cell_type": "markdown",
   "metadata": {},
   "source": [
    "from matplotlib import font_manager导入字体管理模块，font_manager.FontProperties()使用这个方法根据我提供的字体文件创建字体对象。<br>"
   ]
  },
  {
   "cell_type": "code",
   "execution_count": null,
   "metadata": {},
   "outputs": [],
   "source": [
    "%matplotlib inline\n",
    "from matplotlib import pyplot as plt\n",
    "from matplotlib import font_manager\n",
    "import random\n",
    "# 创建字体对象\n",
    "my_font = font_manager.FontProperties(fname='/data/course_data/data_analysis/STSONG.TTF',size=18)\n",
    "x = range(0,120)\n",
    "y = [random.randint(10,30) for i in range(120)]\n",
    "# 添加字体属性\n",
    "plt.ylabel(\"次数\",fontproperties=my_font)\n",
    "plt.xlabel(\"时间\",fontproperties=my_font)\n",
    "# 设置标题\n",
    "plt.title('每分钟跳动次数',fontproperties=my_font)\n",
    "plt.plot(x,y)\n",
    "plt.show()"
   ]
  },
  {
   "cell_type": "markdown",
   "metadata": {},
   "source": [
    "从展示的图片发现我们已经成功的将中文添加上了，首先我们创建了一个字体对象，然后在需要添加中文的地方添加了fontproperties属性，只需两步就成功的将中文字体添加上了 。"
   ]
  },
  {
   "cell_type": "markdown",
   "metadata": {},
   "source": [
    "在上一节的第二个练习中，我们发现一个问题，x轴的刻度值全都重叠在一起了。<br>\n",
    "造成这个问题的原因是：<br>\n",
    "1. 刻度的文字过长，但是图片的宽度不够。\n",
    "2. x轴和y轴刻度会默认根据x值和y值生成，并且Matplotlib默认会生成它认为合适的刻度间距。\n",
    "现在，我们先看看通过改变图片的大小能否解决重叠的问题。<br>\n",
    "要想改变图像的大小，我们需要更改画布的大小来实现，matplotlib 中设置图形大小的语句如下："
   ]
  },
  {
   "cell_type": "code",
   "execution_count": null,
   "metadata": {},
   "outputs": [],
   "source": [
    "plt.figure(figsize=(a, b), dpi=dpi)"
   ]
  },
  {
   "cell_type": "markdown",
   "metadata": {},
   "source": [
    "其中： - figsize 设置图形的大小，a 为图形的宽， b 为图形的高，单位为英寸 - dpi 为设置图形每英寸的点数，即每英寸多少个像素"
   ]
  },
  {
   "cell_type": "code",
   "execution_count": null,
   "metadata": {},
   "outputs": [],
   "source": [
    "%matplotlib inline\n",
    "import pandas as pd\n",
    "from matplotlib import pyplot as plt\n",
    "df = pd.read_excel('/data/course_data/data_analysis/600001SH.xlsx')\n",
    "df.head()\n",
    "x = df['日期'].values.tolist()\n",
    "y = df['开盘价(元)'].values.tolist()\n",
    "\n",
    "plt.figure(figsize=(20, 10),dpi=80)\n",
    "\n",
    "plt.plot(x,y) \n",
    "plt.xlabel('Time')\n",
    "plt.ylabel(\"¥\")\n",
    "plt.title('open/Time')\n",
    "plt.show()"
   ]
  },
  {
   "cell_type": "markdown",
   "metadata": {},
   "source": [
    "我们将图形的宽和高分别设置为20，10英寸，分辨率设置为80后发现，x轴的重叠的效果减轻一些，但还是会有严重的重叠。<br>\n",
    "那我们是不是还要继续修改宽和高呢，答案肯定是No，如果继续放大，图形会变的很大，不是我们想要的效果，所以，并不是所有的刻度问题我们都可以使用改变图片的大小来解决。<br>\n",
    "如果x轴的刻度我们能自己设置，岂不是完美了，我们可以根据自己的想法，对x轴刻度的疏密程度和刻度值进行设置。"
   ]
  },
  {
   "cell_type": "markdown",
   "metadata": {},
   "source": [
    "前面我们学习x轴的标题是使用plt.xlabel()这个方法，接下来我要使用plt.xticks()这个方法自定义x轴的刻度，赶快拿出小本本记上笔记，千万不要把两个方法记混哦。"
   ]
  },
  {
   "cell_type": "code",
   "execution_count": null,
   "metadata": {},
   "outputs": [],
   "source": [
    "xticks(locs, [labels], **kwargs) "
   ]
  },
  {
   "cell_type": "markdown",
   "metadata": {},
   "source": [
    "locs参数为数组参数，表示x-axis的刻度线显示标注的地方，即ticks放置的地方，第二个参数也为数组参数，表示在locs数组表示的位置添加的标签。"
   ]
  },
  {
   "cell_type": "code",
   "execution_count": null,
   "metadata": {},
   "outputs": [],
   "source": [
    "%matplotlib inline\n",
    "import pandas as pd\n",
    "from matplotlib import pyplot as plt\n",
    "df = pd.read_excel('/data/course_data/data_analysis/600001SH.xlsx')\n",
    "df.head()\n",
    "x = df['日期'].values.tolist()\n",
    "y = df['开盘价(元)'].values.tolist()\n",
    "plt.figure(figsize=(20, 10),dpi=80)\n",
    "plt.plot(x,y) \n",
    "plt.xlabel('Time')\n",
    "plt.ylabel(\"¥\")\n",
    "plt.title('open/Time')\n",
    "# 自定义x轴刻度显示\n",
    "plt.xticks(range(0,len(x),3),x[::3],rotation=45)\n",
    "plt.show()"
   ]
  },
  {
   "cell_type": "markdown",
   "metadata": {},
   "source": [
    "range(0,len(x),3)为xticks()的第一个参数，根据x值的个数调整x轴的刻度疏密程度。<br>\n",
    "x[::3]为xticks()的第二个参数，还是使用x的值作为刻度的标签值，但是这里获取了其中的一部分，确保第一个参数和第二个参数的个数相同。<br>\n",
    "rotation=45默认刻度的值是横向书写的，这样会有一定的重叠，所以我们将文字进行旋转操作，45位旋转的度数。<br>"
   ]
  },
  {
   "cell_type": "markdown",
   "metadata": {},
   "source": [
    "# 一图多线"
   ]
  },
  {
   "cell_type": "code",
   "execution_count": null,
   "metadata": {},
   "outputs": [],
   "source": [
    "%matplotlib inline\n",
    "import pandas as pd\n",
    "from matplotlib import pyplot as plt\n",
    "df = pd.read_excel('/data/course_data/data_analysis/600001SH.xlsx')\n",
    "df.head()\n",
    "x = df['日期'].values.tolist()\n",
    "y = df['开盘价(元)'].values.tolist()\n",
    "z = df['收盘价(元)'].values.tolist()\n",
    "\n",
    "plt.figure(figsize=(20, 10),dpi=80)\n",
    "# 绘制开盘价折线\n",
    "plt.plot(x,y) \n",
    "# 绘制收盘价折线\n",
    "plt.plot(x,z) \n",
    "\n",
    "plt.xlabel('Time')\n",
    "plt.ylabel(\"¥\")\n",
    "plt.title('open/Time')\n",
    "\n",
    "plt.xticks(range(0,len(x),3),x[::3],rotation=45)\n",
    "plt.show()"
   ]
  },
  {
   "cell_type": "markdown",
   "metadata": {},
   "source": [
    "哇塞，居然真的是这样的，一个坐标系中绘制两条折线，只需要使用两次plt.plot()方法就可以了。<br>\n",
    "plt.legend()方法就是图形添加图例的方法，但是这个方法比较特殊，一共需要两步才能成功的添加上图例，我们先运行下放代码，看一下图例的效果："
   ]
  },
  {
   "cell_type": "code",
   "execution_count": null,
   "metadata": {},
   "outputs": [],
   "source": [
    "%matplotlib inline\n",
    "import pandas as pd\n",
    "from matplotlib import pyplot as plt\n",
    "from matplotlib import font_manager\n",
    "my_font = font_manager.FontProperties(fname='/data/course_data/data_analysis/STSONG.TTF')\n",
    "\n",
    "df = pd.read_excel('/data/course_data/data_analysis/600001SH.xlsx')\n",
    "\n",
    "x = df['日期'].values.tolist()\n",
    "y = df['开盘价(元)'].values.tolist()\n",
    "z = df['收盘价(元)'].values.tolist()\n",
    "\n",
    "plt.figure(figsize=(20, 10),dpi=80)\n",
    "plt.plot(x,y,label='开盘价') \n",
    "plt.plot(x,z,label='收盘价') \n",
    "plt.xlabel('Time')\n",
    "plt.ylabel(\"¥\")\n",
    "plt.title('open/Time')\n",
    "# 添加图例\n",
    "plt.legend(prop=my_font)\n",
    "\n",
    "plt.xticks(range(0,len(x),3),x[::3],rotation=45)\n",
    "#alpha=0.4 设置透明度\n",
    "plt.grid(alpha=0.4)\n",
    "\n",
    "plt.show()"
   ]
  },
  {
   "cell_type": "markdown",
   "metadata": {},
   "source": [
    "通过结果发现，在图形的右上角我们成功的添加上了图例。接下来，我们一起分析一下家图例的流程。<br>\n",
    "plt.legend(prop=my_font)是添加图例的方法，prop=my_font参数是设置图例上中文显示的属性，另外一个比较重要的是，图例上显示的文字我们需要添加在plt.plot(x,y,label='开盘价')方法的label属性中。<br>\n",
    "没错，代码中小k添加这这样一行代码plt.grid(alpha=0.4)，这行代码就是添加网格的效果，这里面的alpha=0.4是设置网格线的透明度，范围是（0~1）。<br>\n",
    "绘制网格的作用就是为了辅助我们更好的观察数据的x值和y值。"
   ]
  },
  {
   "cell_type": "markdown",
   "metadata": {},
   "source": [
    "# 一图多个坐标系子图"
   ]
  },
  {
   "cell_type": "markdown",
   "metadata": {},
   "source": [
    "我们上面的学习都是在一个画布上创建一个坐标系，在上节课中我们介绍到一个画布上是可以分成多个区域，每个区域都可以绘制一个图像，这里的每个图像称为一个子图。<br>\n",
    "调用plt.subplot()函数就可以在画布上创建一个子图，plt.subplot()的使用方法如下："
   ]
  },
  {
   "cell_type": "code",
   "execution_count": null,
   "metadata": {},
   "outputs": [],
   "source": [
    "plt.subplot(nrows, ncols, index)"
   ]
  },
  {
   "cell_type": "markdown",
   "metadata": {},
   "source": [
    "函数的 nrows 参数指定将数据图区域分成多少行；ncols 参数指定将数据图区域分成多少列；index 参数指定获取第几个区域。"
   ]
  },
  {
   "cell_type": "code",
   "execution_count": 3,
   "metadata": {},
   "outputs": [
    {
     "data": {
      "image/png": "[encoded data removed]",
      "text/plain": [
       "<Figure size 720x576 with 3 Axes>"
      ]
     },
     "metadata": {
      "needs_background": "light"
     },
     "output_type": "display_data"
    }
   ],
   "source": [
    "%matplotlib inline\n",
    "from matplotlib import pyplot as plt\n",
    "import numpy as np\n",
    "x = [1,10,14,15,16,17]\n",
    "y = np.array([3,4,6,2,1,5])\n",
    "\n",
    "plt.figure(figsize = (10,8))\n",
    "# 第一个子图\n",
    "# 折线图\n",
    "plt.subplot(2, 2, 1)\n",
    "plt.plot(y)\n",
    "plt.title('Axes1')\n",
    "#第二个子图\n",
    "# 折线图，y轴每个数据的立方\n",
    "plt.subplot(2, 2, 2)\n",
    "plt.plot(y**3)\n",
    "plt.title('Axes2')\n",
    "#第三个子图\n",
    "# 折线图，x轴和y轴均指定数据\n",
    "plt.subplot(2, 2, 3)\n",
    "plt.plot(x,y)\n",
    "plt.title('Axes3')\n",
    "plt.show()"
   ]
  },
  {
   "cell_type": "code",
   "execution_count": null,
   "metadata": {},
   "outputs": [],
   "source": []
  }
 ],
 "metadata": {
  "kernelspec": {
   "display_name": "Python 3",
   "language": "python",
   "name": "python3"
  },
  "language_info": {
   "codemirror_mode": {
    "name": "ipython",
    "version": 3
   },
   "file_extension": ".py",
   "mimetype": "text/x-python",
   "name": "python",
   "nbconvert_exporter": "python",
   "pygments_lexer": "ipython3",
   "version": "3.7.3"
  }
 },
 "nbformat": 4,
 "nbformat_minor": 2
}
