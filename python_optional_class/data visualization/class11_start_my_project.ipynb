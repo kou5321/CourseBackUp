{
 "cells": [
  {
   "cell_type": "markdown",
   "metadata": {},
   "source": [
    "为了更好的了解数据分析师这个岗位，本节课我们将以某招聘网站的2017年数据分析师职位数据为基础，进行数据分析。数据路径为：/data/course_data/data_analysis/analyse_spider.csv。"
   ]
  },
  {
   "cell_type": "markdown",
   "metadata": {},
   "source": [
    "下面，我们了解一下数据的基本信息：<br>\n",
    "数据共包含14列，先看一下每一列的含义：<br>\n",
    "参数含义<br>\n",
    "city：城市<br>\n",
    "companyId：公司ID<br>\n",
    "companySize：公司大小<br>\n",
    "CbusinessZones：公司所在商区<br>\n",
    "firstType：职位所属一级类目<br>\n",
    "secondType：职业所属二级类目<br>\n",
    "education：教育要求<br>\n",
    "industryField：公司所属领域<br>\n",
    "positionId：职位ID<br>\n",
    "positionAdvantage：职位福利<br>\n",
    "positionName：职位名称<br>\n",
    "salary：薪水<br>\n",
    "workYear：工作年限要求<br>"
   ]
  },
  {
   "cell_type": "code",
   "execution_count": null,
   "metadata": {},
   "outputs": [],
   "source": [
    "import pandas as pd\n",
    "data = pd.read_csv('/data/course_data/data_analysis/analyse_spider.csv',encoding='GBK')\n",
    "print(data.shape)\n",
    "data.info()"
   ]
  },
  {
   "cell_type": "markdown",
   "metadata": {},
   "source": [
    "因为csv文件中带有中文字符而产生字符编码错误，造成读取文件错误，在这个时候，我们可以尝试将pd.read_csv()函数的encoding参数设置为\"gbk\"。"
   ]
  },
  {
   "cell_type": "markdown",
   "metadata": {},
   "source": [
    "数据分析的大忌是不知道分析方向和目的，拿着一堆数据不知所措。一切数据分析都是以业务为核心目的，而不是以数据为目的。<br>\n",
    "我们本案例的目标很简单，就是根据该数据，分析影响薪资的因素：<br>\n",
    "1. 地区对数据分析师的薪酬的影响； \n",
    "2. 学历对数据分析师的薪酬的影响； \n",
    "3. 工作年限对数据分析师的薪酬的影响。"
   ]
  },
  {
   "cell_type": "markdown",
   "metadata": {},
   "source": [
    "数据的缺失值在很大程度上会影响数据的分析结果，如果某一个字段缺失值超过一半的时候，我们就可以将这个字段删除了，因为缺失过多就没有业务意义了。<br>\n",
    "注意：并不是，只要含有有缺失值的时候，我们就要将数据删除，如果数据量比较少、缺失值不多，并且对我们的分析指标没有实际影响时，我们就可以将其保留。"
   ]
  },
  {
   "cell_type": "markdown",
   "metadata": {},
   "source": [
    "运行下方代码，查看数据的缺失值情况："
   ]
  },
  {
   "cell_type": "code",
   "execution_count": null,
   "metadata": {},
   "outputs": [],
   "source": [
    "import pandas as pd\n",
    "data = pd.read_csv('/data/course_data/data_analysis/analyse_spider.csv',encoding='GBK')\n",
    "print(data.shape)\n",
    "data.info()"
   ]
  },
  {
   "cell_type": "markdown",
   "metadata": {},
   "source": [
    "通过结果我们可以看出：一共有6876个数据，其中businessZones、firstType、secondType，positionLables都存在为空的情况。companyId和positionId为数字，其他都是字符串。<br>\n",
    "从数量上可以看出，businessZones列的数据缺失量比较大，需要将该列数据删除。<br>\n",
    "其他三列的缺失值的总数量为45，并不会影响整体分析效果，我们可以删除这45条数据。<br>"
   ]
  },
  {
   "cell_type": "markdown",
   "metadata": {},
   "source": [
    "运行下面代码，删除缺失值："
   ]
  },
  {
   "cell_type": "code",
   "execution_count": null,
   "metadata": {},
   "outputs": [],
   "source": [
    "import pandas as pd\n",
    "data = pd.read_csv('/data/course_data/data_analysis/analyse_spider.csv',encoding='GBK')\n",
    "# 删除businessZones列数据\n",
    "data.drop(['businessZones'],axis=1, inplace=True)\n",
    "# 删除含有NaN的数据\n",
    "data.dropna(inplace=True)\n",
    "data.info()"
   ]
  },
  {
   "cell_type": "code",
   "execution_count": null,
   "metadata": {},
   "outputs": [],
   "source": [
    "处理完空值以后，我们还需要注意另外一个会影响我们分析结果的因素，就是重复值。<br>\n",
    "我们来看一下计算一下重复的数据，并将其删除。<br>\n",
    "使用data.duplicated()方法判断每一行是否重复，然后使用data.duplicated()[data.duplicated()==True]取出重复行，最后使用len()计算重复的数据。<br>\n",
    "下面运行下方代码，看一下是否有重复的数据，并删除。"
   ]
  },
  {
   "cell_type": "code",
   "execution_count": null,
   "metadata": {},
   "outputs": [],
   "source": [
    "import pandas as pd\n",
    "data = pd.read_csv('/data/course_data/data_analysis/analyse_spider.csv',encoding='GBK')\n",
    "# 删除businessZones列数据\n",
    "data.drop(['businessZones'],axis=1, inplace=True)\n",
    "data.dropna(inplace=True)\n",
    "\n",
    "# 计算重复的数据数\n",
    "print(len(data.duplicated()[data.duplicated()==True]))\n",
    "# 删除重复数据\n",
    "data.drop_duplicates(inplace=True)\n",
    "data.info()"
   ]
  },
  {
   "cell_type": "markdown",
   "metadata": {},
   "source": [
    "薪资字段格式基本分为15k-25k和15k以上这两种，并且都是字符串。<br>\n",
    "如果我们只想要薪资下限数据或者薪资上限数据时，怎么办呢？<br>\n",
    "最好的方式就将salary薪资字段按照最高薪水和最低薪水拆成两列，并且薪水的话如果用几K表示，直接用于计算，所以将k去掉。<br>\n",
    "这里我们可以使用pandas中的apply方法，针对薪酬这一列数据进行操作，"
   ]
  },
  {
   "cell_type": "code",
   "execution_count": null,
   "metadata": {},
   "outputs": [],
   "source": [
    "# 定义拆分的函数\n",
    "def split_salary(salary,method):\n",
    "    # 获取'-'索引值\n",
    "    position = salary.upper().find('-')\n",
    "    if position != -1: #salary值是15k-25k形式\n",
    "        low_salary = salary[:position-1]\n",
    "        high_salary= salary[position+1:len(salary)-1]\n",
    "         \n",
    "    else: #salary值是15k以上形式\n",
    "        low_salary = salary[:salary.upper().find('K')]\n",
    "        high_salary= low_salary\n",
    "    # 根据参数用以判断返回的值\n",
    "    if method == 'low':\n",
    "        return low_salary\n",
    "    elif method == 'high':\n",
    "        return high_salary   \n",
    "    elif method == 'avg':\n",
    "        return (int(low_salary) + int(high_salary))/2\n",
    "# 赋值\n",
    "data['low_salary']=data.salary.apply(split_salary,method='low')\n",
    "data['high_salary']=data.salary.apply(split_salary,method='high')\n",
    "data['avg_salary']=data.salary.apply(split_salary,method='avg')\n",
    "data"
   ]
  },
  {
   "cell_type": "markdown",
   "metadata": {},
   "source": [
    "第一步，我们自定义了一个函数split_salary()函数，salary参数是使用apply函数必须要传的参数，其实就是data.salary的值。<br>\n",
    "第二步，使用salary.upper().find('-')判断salary值是15k-25k的形式还是15k以上形式，如果结果是-1，表示是15k以上形式，反之是15k-25k形式。为了避免k的大小写，我们用upper函数将k都转换为K，然后以K作为截取。<br>\n",
    "第三步，在split_salary函数增加了新的参数用以判断返回low_salary还是high_salary或者是avg_salary。<br>"
   ]
  },
  {
   "cell_type": "markdown",
   "metadata": {},
   "source": [
    "到此，我们数据整理部分完成，接下来我们看一下数据分析师的薪酬情况。<br>\n",
    "现在我们看一下，数据分析师薪资的分布情况。"
   ]
  },
  {
   "cell_type": "code",
   "execution_count": null,
   "metadata": {},
   "outputs": [],
   "source": [
    "import matplotlib.pyplot as plt\n",
    "import seaborn as sns\n",
    "sns.set(style='dark')\n",
    "plt.hist(data.avg_salary)\n",
    "plt.show()"
   ]
  },
  {
   "cell_type": "markdown",
   "metadata": {},
   "source": [
    "现在观察不同城市、不同学历以及不同工作年限对薪资的影响。<br>\n",
    "首先，我们先按城市分组，然后对比每个城市的平均薪资。"
   ]
  },
  {
   "cell_type": "code",
   "execution_count": null,
   "metadata": {},
   "outputs": [],
   "source": [
    "import matplotlib.pyplot as plt\n",
    "from matplotlib import font_manager\n",
    "my_font = font_manager.FontProperties(fname='/data/course_data/data_analysis/STSONG.TTF')\n",
    "sns.set(style='dark')\n",
    "groups = data.groupby(by='city')\n",
    "xticks = []\n",
    "for group_name,group_df in groups:\n",
    "    xticks.append(group_name)\n",
    "    plt.bar(group_name,group_df.avg_salary.mean())\n",
    "plt.xticks(xticks,fontproperties=my_font)  \n",
    "plt.show()"
   ]
  },
  {
   "cell_type": "markdown",
   "metadata": {},
   "source": [
    "代码中我们用city进行分组，然后分别绘制了每个城市的平均薪资。<br>\n",
    "从图表中我们看出，北京的数据分析师薪资高于其他城市，上海和深圳稍次，广州甚至不如杭州和苏州。<br>\n",
    "接下来，我们再看看不同学历对薪资的影响。"
   ]
  },
  {
   "cell_type": "code",
   "execution_count": null,
   "metadata": {},
   "outputs": [],
   "source": [
    "from matplotlib import font_manager\n",
    "my_font = font_manager.FontProperties(fname='/data/course_data/data_analysis/STSONG.TTF')\n",
    "sns.set(style='dark')\n",
    "groups = data.groupby(by='education')\n",
    "xticks = []\n",
    "for group_name,group_df in groups:\n",
    "    xticks.append(group_name)\n",
    "    plt.bar(group_name,group_df.avg_salary.mean())\n",
    "plt.xticks(xticks,fontproperties=my_font)\n",
    "plt.show()"
   ]
  },
  {
   "cell_type": "markdown",
   "metadata": {},
   "source": [
    "代码中我们用city进行分组，然后分别绘制了不同学历的平均薪资。<br>\n",
    "从图表中我们看出,博士薪资最高，硕士和本科基本持平，大专学历稍有弱势。<br>\n",
    "最后，我们再看看不同工作年限对薪资的影响。"
   ]
  },
  {
   "cell_type": "code",
   "execution_count": null,
   "metadata": {},
   "outputs": [],
   "source": [
    "import matplotlib.pyplot as plt\n",
    "from matplotlib import font_manager\n",
    "my_font = font_manager.FontProperties(fname='/data/course_data/data_analysis/STSONG.TTF')\n",
    "sns.set(style='dark')\n",
    "groups = data.groupby(by='workYear')\n",
    "xticks = []\n",
    "for group_name,group_df in groups:\n",
    "    xticks.append(group_name)\n",
    "    plt.bar(group_name,group_df.avg_salary.mean())\n",
    "\n",
    "plt.xticks(xticks,fontproperties=my_font)\n",
    "    \n",
    "plt.show()"
   ]
  },
  {
   "cell_type": "markdown",
   "metadata": {},
   "source": [
    "从图表中我们看出，拥有10年以上的数据分析工作经验的人平均薪资最高，并且是年限越长薪资就越高。"
   ]
  },
  {
   "cell_type": "markdown",
   "metadata": {},
   "source": [
    "薪资我们就简单的分析到这里，我们简单的归纳一下我们数据展现的结果：<br>\n",
    "1.数据分析师的薪资的平均数是17k，最大薪资在75k，大部分分析师薪资在10k-20k之间。<br>\n",
    "2.北京的数据分析师薪资高于其他城市，上海和深圳稍次，杭州和苏州已经超过广州。<br>\n",
    "3.薪资最高的是博士，硕士和本科的薪资基本持平，大专学历稍有弱势。<br>\n",
    "4.工作年限越长，薪资就越高。<br>\n",
    "根据上面数据展现的结果可以得到这样的结论：北上广深依然是我们高薪就业地，同时工作年限和学历都是都与薪资成线性增长趋势。"
   ]
  }
 ],
 "metadata": {
  "kernelspec": {
   "display_name": "Python 3",
   "language": "python",
   "name": "python3"
  },
  "language_info": {
   "codemirror_mode": {
    "name": "ipython",
    "version": 3
   },
   "file_extension": ".py",
   "mimetype": "text/x-python",
   "name": "python",
   "nbconvert_exporter": "python",
   "pygments_lexer": "ipython3",
   "version": "3.7.3"
  }
 },
 "nbformat": 4,
 "nbformat_minor": 2
}
