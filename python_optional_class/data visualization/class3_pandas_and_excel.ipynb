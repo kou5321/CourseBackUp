{
 "cells": [
  {
   "cell_type": "code",
   "execution_count": 1,
   "metadata": {},
   "outputs": [
    {
     "name": "stdout",
     "output_type": "stream",
     "text": [
      "end\n"
     ]
    }
   ],
   "source": [
    "from pandas import Series,DataFrame\n",
    "\n",
    "# 使用字典创建\n",
    "index_list = ['001','002','003','004','005','006','007','008','009','010']\n",
    "name_list = ['李白','王昭君','诸葛亮','狄仁杰','孙尚香','妲己','周瑜','张飞','王昭君','大乔']\n",
    "age_list = [25,28,27,25,30,29,25,32,28,26]\n",
    "salary_list = ['10k','12.5k','20k','14k','12k','17k','18k','21k','22k','21.5k']\n",
    "marital_list = ['NO','NO','YES','YES','NO','NO','NO','YES','NO','YES']\n",
    "dic={\n",
    "    '姓名': Series(data=name_list,index=index_list),\n",
    "    '年龄': Series(data=age_list,index=index_list),\n",
    "    '薪资': Series(data=salary_list,index=index_list),\n",
    "    '婚姻状况': Series(data=marital_list,index=index_list)\n",
    "    }\n",
    "df=DataFrame(dic) \n",
    "\n",
    "# 写入csv，path_or_buf为写入文本文件\n",
    "df.to_csv(path_or_buf='./People_Information.csv', encoding='utf_8_sig')\n",
    "print('end')"
   ]
  },
  {
   "cell_type": "code",
   "execution_count": 2,
   "metadata": {},
   "outputs": [
    {
     "name": "stdout",
     "output_type": "stream",
     "text": [
      "   Unnamed: 0   姓名  年龄     薪资 婚姻状况\n",
      "0           1   李白  25    10k   NO\n",
      "1           2  王昭君  28  12.5k   NO\n",
      "2           3  诸葛亮  27    20k  YES\n",
      "3           4  狄仁杰  25    14k  YES\n",
      "4           5  孙尚香  30    12k   NO\n",
      "5           6   妲己  29    17k   NO\n",
      "6           7   周瑜  25    18k   NO\n",
      "7           8   张飞  32    21k  YES\n",
      "8           9  王昭君  28    22k   NO\n",
      "9          10   大乔  26  21.5k  YES\n",
      "(10, 5)\n"
     ]
    }
   ],
   "source": [
    "import pandas as pd\n",
    "df = pd.read_csv('./People_Information.csv')\n",
    "print(df)\n",
    "print(df.shape)"
   ]
  },
  {
   "cell_type": "code",
   "execution_count": 5,
   "metadata": {},
   "outputs": [
    {
     "name": "stdout",
     "output_type": "stream",
     "text": [
      "Index(['Unnamed: 0', '姓名', '年龄', '薪资', '婚姻状况'], dtype='object')\n"
     ]
    }
   ],
   "source": [
    "import pandas as pd\n",
    "people = pd.read_csv('./People_Information.csv',header = 0)\n",
    "print(people.columns)"
   ]
  },
  {
   "cell_type": "code",
   "execution_count": 7,
   "metadata": {},
   "outputs": [
    {
     "name": "stdout",
     "output_type": "stream",
     "text": [
      "   001   李白  25    10k   NO\n",
      "0    2  王昭君  28  12.5k   NO\n",
      "1    3  诸葛亮  27    20k  YES\n",
      "2    4  狄仁杰  25    14k  YES\n",
      "3    5  孙尚香  30    12k   NO\n",
      "4    6   妲己  29    17k   NO\n"
     ]
    }
   ],
   "source": [
    "import pandas as pd\n",
    "people = pd.read_csv('./People_Information.csv',header = 1)\n",
    "print(people.head())"
   ]
  },
  {
   "cell_type": "markdown",
   "metadata": {},
   "source": [
    "【江湖秘籍】当指定了header的值，读出来的数据就是从该行开始向下切片，该行以上的数据会被忽略。"
   ]
  },
  {
   "cell_type": "code",
   "execution_count": null,
   "metadata": {},
   "outputs": [],
   "source": [
    "import pandas as pd\n",
    "sheet1 = pd.read_excel('/data/course_data/data_analysis/sheet.xlsx',sheet_name='sheet1')\n",
    "print(sheet1.head())\n",
    "\n",
    "sheet2 = pd.read_excel('/data/course_data/data_analysis/sheet.xlsx',sheet_name='sheet2')\n",
    "print(sheet2.head())"
   ]
  },
  {
   "cell_type": "code",
   "execution_count": null,
   "metadata": {},
   "outputs": [],
   "source": []
  }
 ],
 "metadata": {
  "kernelspec": {
   "display_name": "Python 3",
   "language": "python",
   "name": "python3"
  },
  "language_info": {
   "codemirror_mode": {
    "name": "ipython",
    "version": 3
   },
   "file_extension": ".py",
   "mimetype": "text/x-python",
   "name": "python",
   "nbconvert_exporter": "python",
   "pygments_lexer": "ipython3",
   "version": "3.7.3"
  }
 },
 "nbformat": 4,
 "nbformat_minor": 2
}
