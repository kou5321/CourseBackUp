{
 "cells": [
  {
   "cell_type": "code",
   "execution_count": null,
   "metadata": {},
   "outputs": [],
   "source": [
    "import pandas as pd\n",
    "df = pd.read_excel('/data/course_data/data_analysis/forbes_2018.xlsx')\n",
    "group = df.groupby('gender') # 根据结果可以发现，分组后的结果为DataFrameGroupBy object，是一个分组后的对象。\n",
    "for gender,value in group.size().items():\n",
    "    # 计算每组的占比\n",
    "    accounted = value/df.shape[0]\n",
    "    # 将小数转化成百分数\n",
    "    bb = \"%.2f%%\" % (accounted * 100)\n",
    "    print('福布斯2018年度亿万富翁中{}共{}位，占比是{}'.format(gender,value, bb))"
   ]
  },
  {
   "cell_type": "code",
   "execution_count": null,
   "metadata": {},
   "outputs": [],
   "source": [
    "group = df['age'].groupby(df['gender'])\n",
    "# 查看分组\n",
    "print(group.groups)\n",
    "# 根据分组后的名字选择分组\n",
    "print(group.get_group('F'))"
   ]
  },
  {
   "cell_type": "markdown",
   "metadata": {},
   "source": [
    "代码df['age'].groupby(df['gender'])的逻辑是：取出df中age列数据，并且对该列数据根据df['gender']列数据进行分组操作。<br>\n",
    "上面的带也可改写成df.groupby(df['gender'])['age']，它的逻辑是：将df数据通过df['gender']进行分组，然后再取出分组后的age列数据。两种写法达到的效果是一样的。<br>\n"
   ]
  },
  {
   "cell_type": "code",
   "execution_count": null,
   "metadata": {},
   "outputs": [],
   "source": [
    "import pandas as pd\n",
    "df = pd.read_excel('/data/course_data/data_analysis/forbes_2018.xlsx')\n",
    "groups = df.groupby('gender')\n",
    "# 获取F组的数据\n",
    "f_group = groups.get_group('F')\n",
    "# 获取平均值\n",
    "f_mean = f_group['age'].mean()\n",
    "# 获取最大值\n",
    "f_max = f_group['age'].max()\n",
    "# 获取最小值\n",
    "f_min = f_group['age'].min()\n",
    "print(f_mean,f_max,f_min)"
   ]
  },
  {
   "cell_type": "code",
   "execution_count": null,
   "metadata": {},
   "outputs": [],
   "source": [
    "import pandas as pd\n",
    "df = pd.read_excel('/data/course_data/data_analysis/forbes_2018.xlsx')\n",
    "groups = df.groupby('gender')\n",
    "\n",
    "for group_name,group_df in groups:\n",
    "    print(group_name,group_df.shape)"
   ]
  },
  {
   "cell_type": "markdown",
   "metadata": {},
   "source": [
    "上面代码中的将分组后的对象groups进行遍历，可以获取到group_name每个组的名字，group_df每个组的数据。<br>"
   ]
  },
  {
   "cell_type": "code",
   "execution_count": null,
   "metadata": {},
   "outputs": [],
   "source": [
    "import pandas as pd\n",
    "df = pd.read_excel('/data/course_data/data_analysis/forbes_2018.xlsx')\n",
    "groups = df.groupby('gender')\n",
    "for group_name,group_df in groups:\n",
    "    f_mean = group_df['age'].mean()\n",
    "    f_max = group_df['age'].max()\n",
    "    f_min = group_df['age'].min()\n",
    "    print('{}组的最大年龄是{}，最小年龄是{}，平均年龄是{}'.format(group_name,f_max,f_min,f_mean))"
   ]
  },
  {
   "cell_type": "markdown",
   "metadata": {},
   "source": [
    "运行下面的代码，看下groupby()是如何进行多列分组的："
   ]
  },
  {
   "cell_type": "code",
   "execution_count": null,
   "metadata": {},
   "outputs": [],
   "source": [
    "import pandas as pd\n",
    "df = pd.read_excel('/data/course_data/data_analysis/forbes_2018.xlsx')\n",
    "group=df.groupby(['country','gender'])\n",
    "df1 = group.size()\n",
    "print(df1)"
   ]
  },
  {
   "cell_type": "markdown",
   "metadata": {},
   "source": [
    "注意：列表中列名的顺序，确定了先按country列进行分组，然后再按gender列分组。不同的顺序，产生的分组名字是不同的。"
   ]
  },
  {
   "cell_type": "code",
   "execution_count": null,
   "metadata": {},
   "outputs": [],
   "source": [
    "import pandas as pd\n",
    "df = pd.read_excel('/data/course_data/data_analysis/forbes_2018.xlsx')\n",
    "group=df.groupby(['country','gender'])\n",
    "df1 = group.size()\n",
    "size = df1['Austria']['F']\n",
    "print(size)"
   ]
  },
  {
   "cell_type": "markdown",
   "metadata": {},
   "source": [
    "通过代码，我们发现对于多层索引值的获取，只需要从外往里一层一层的取就可以了，就像我们睡觉之前，需要先脱外衣再脱掉内衣是一样的。"
   ]
  },
  {
   "cell_type": "markdown",
   "metadata": {},
   "source": [
    "为大家使用更为灵活，pandas提供了一个 agg( )方法用来对分组后的数据进行统计。"
   ]
  },
  {
   "cell_type": "code",
   "execution_count": null,
   "metadata": {},
   "outputs": [],
   "source": [
    "import pandas as pd\n",
    "df = pd.read_excel('/data/course_data/data_analysis/forbes_2018.xlsx')\n",
    "groups = df.groupby('gender')\n",
    "for group_name,group_df in groups:\n",
    "    f_se = group_df['age'].agg(['max','min','mean'])\n",
    "    print('{}组的最大年龄是{}，最小年龄是{}，平均年龄是{}'.format(group_name,f_se[0],f_se[1],f_se[2]))"
   ]
  },
  {
   "cell_type": "markdown",
   "metadata": {},
   "source": [
    "并且需要注意的是，如果是统计函数是pandas提供的，我们只需将函数的名字以字符串的形势存储到列表中即可，例如：将max()改成'max'。"
   ]
  },
  {
   "cell_type": "code",
   "execution_count": null,
   "metadata": {},
   "outputs": [],
   "source": [
    "import pandas as pd\n",
    "df = pd.read_excel('/data/course_data/data_analysis/forbes_2018.xlsx')\n",
    "groups = df.groupby('gender')\n",
    "def peak_range(df):\n",
    "    \"\"\"\n",
    "        返回数值范围\n",
    "    \"\"\"\n",
    "    return df.max() - df.min()\n",
    "for group_name,group_df in groups:\n",
    "    f_se = group_df['age'].agg(['max','min','mean',peak_range])\n",
    "    print(f_se[0],f_se[1],f_se[3])"
   ]
  },
  {
   "cell_type": "markdown",
   "metadata": {},
   "source": [
    "peak_range(df)函数是我们自定的函数，并设置了一个df参数,为了接收group_df['age']的值。<br>\n",
    "注意：自定义的函数名字在传入agg()函数中时不需要转换成字符串。"
   ]
  },
  {
   "cell_type": "code",
   "execution_count": null,
   "metadata": {},
   "outputs": [],
   "source": []
  }
 ],
 "metadata": {
  "kernelspec": {
   "display_name": "Python 3",
   "language": "python",
   "name": "python3"
  },
  "language_info": {
   "codemirror_mode": {
    "name": "ipython",
    "version": 3
   },
   "file_extension": ".py",
   "mimetype": "text/x-python",
   "name": "python",
   "nbconvert_exporter": "python",
   "pygments_lexer": "ipython3",
   "version": "3.7.3"
  }
 },
 "nbformat": 4,
 "nbformat_minor": 2
}
